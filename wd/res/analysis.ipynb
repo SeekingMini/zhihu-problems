{
 "cells": [
  {
   "cell_type": "markdown",
   "metadata": {
    "collapsed": true
   },
   "source": [
    "### 问题类别分析\n",
    "通过词云我们可以清楚地得到结论：`生活`、`心理学`、`恋爱`、`调查类问题`等问题出现的频率较高。但是具体数字不得而知，我们将进一步分析。"
   ]
  },
  {
   "cell_type": "code",
   "execution_count": 1,
   "metadata": {},
   "outputs": [],
   "source": [
    "import pandas as pd"
   ]
  },
  {
   "cell_type": "code",
   "execution_count": 2,
   "metadata": {},
   "outputs": [],
   "source": [
    "df = pd.read_csv(r'./info.csv')  # 导入csv文件"
   ]
  },
  {
   "cell_type": "code",
   "execution_count": 3,
   "metadata": {},
   "outputs": [
    {
     "data": {
      "text/plain": [
       "生活               204\n",
       "调查类问题             76\n",
       "心理学               39\n",
       "恋爱                23\n",
       "学习                23\n",
       "人际交往              23\n",
       "服饰搭配              20\n",
       "美食                20\n",
       "教育                19\n",
       "美容护肤              18\n",
       "健康                18\n",
       "文学                18\n",
       "人生                16\n",
       "社会                16\n",
       "创业                15\n",
       "历史                13\n",
       "生活方式              13\n",
       "情感                12\n",
       "设计                12\n",
       "女性                11\n",
       "健身                11\n",
       "电影                10\n",
       "旅游                 9\n",
       "摄影                 8\n",
       "X 是种怎样的体验          8\n",
       "时尚                 8\n",
       "生活常识               7\n",
       "生活经历               6\n",
       "互联网                6\n",
       "电影推荐               6\n",
       "                ... \n",
       "平面设计               1\n",
       "亲密关系               1\n",
       "精华回答               1\n",
       "留学                 1\n",
       "计算机网络              1\n",
       "脑洞                 1\n",
       "寝室神器               1\n",
       "买房                 1\n",
       "宠物                 1\n",
       "考试                 1\n",
       "化妆品                1\n",
       "个人成长               1\n",
       "英语翻译               1\n",
       "硬笔书法               1\n",
       "旅行分享               1\n",
       "素质                 1\n",
       "动漫                 1\n",
       "股票入门               1\n",
       "小说推荐               1\n",
       "艺术                 1\n",
       "房地产                1\n",
       "英语学习教材推荐           1\n",
       "Google Chrome      1\n",
       "购物推荐               1\n",
       "两岸关系与发展            1\n",
       "美女                 1\n",
       "人道主义               1\n",
       "媒体                 1\n",
       "思考方法               1\n",
       "发展前景               1\n",
       "Name: Type, Length: 231, dtype: int64"
      ]
     },
     "execution_count": 3,
     "metadata": {},
     "output_type": "execute_result"
    }
   ],
   "source": [
    "df['Type'].value_counts()"
   ]
  },
  {
   "cell_type": "code",
   "execution_count": 4,
   "metadata": {},
   "outputs": [],
   "source": [
    "top_10 = df['Type'].value_counts()  # 表格如下"
   ]
  },
  {
   "cell_type": "markdown",
   "metadata": {},
   "source": [
    "| 类别  | 数量 |\n",
    "| :---------: | :--------: |\n",
    "| 生活  | 204 |\n",
    "| 心理学  | 39 |\n",
    "| 学习  | 23 |\n",
    "| 恋爱  | 23 |\n",
    "| 人际交往  | 23 |\n",
    "| 美食  | 20 |\n",
    "| 服饰搭配  | 20 |\n",
    "| 教育  | 19 |\n",
    "| 美容护肤  | 18 |\n",
    "| 文学  | 18 |\n",
    "| 健康  | 18 |\n",
    "\n",
    "可以看出，`生活`类的问题占了1000个问题的五分之一，而2~9名的数量差距不大。光从数据来看，知乎成为了一个分享生活感悟、生活常识、人生哲理等生活类话题的社交平台，而不仅仅是一个专业知识问答社区。<br>\n",
    "接下来，将要对每一个问题的`关注人数`以及`回答个数`进行分析。"
   ]
  },
  {
   "cell_type": "code",
   "execution_count": null,
   "metadata": {},
   "outputs": [],
   "source": []
  }
 ],
 "metadata": {
  "kernelspec": {
   "display_name": "Python 3",
   "language": "python",
   "name": "python3"
  },
  "language_info": {
   "codemirror_mode": {
    "name": "ipython",
    "version": 3
   },
   "file_extension": ".py",
   "mimetype": "text/x-python",
   "name": "python",
   "nbconvert_exporter": "python",
   "pygments_lexer": "ipython3",
   "version": "3.6.5"
  }
 },
 "nbformat": 4,
 "nbformat_minor": 1
}
